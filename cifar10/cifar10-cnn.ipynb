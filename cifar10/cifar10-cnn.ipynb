{
 "cells": [
  {
   "cell_type": "code",
   "execution_count": 26,
   "id": "668aafde",
   "metadata": {
    "ExecuteTime": {
     "end_time": "2021-05-26T08:22:34.699052Z",
     "start_time": "2021-05-26T08:22:34.692562Z"
    }
   },
   "outputs": [],
   "source": [
    "import pickle\n",
    "import torch as t\n",
    "import numpy as np\n",
    "\n",
    "from glob import glob\n",
    "from collections import defaultdict\n",
    "from matplotlib.pyplot import imshow\n",
    "from matplotlib import pyplot as plt"
   ]
  },
  {
   "cell_type": "code",
   "execution_count": 27,
   "id": "7ddb1403",
   "metadata": {
    "ExecuteTime": {
     "end_time": "2021-05-26T08:22:35.353271Z",
     "start_time": "2021-05-26T08:22:35.344074Z"
    }
   },
   "outputs": [],
   "source": [
    "def getData(file):\n",
    "    with open(file, 'rb') as f:\n",
    "        dict = pickle.load(f, encoding='bytes')\n",
    "    \n",
    "    dict[b'data'] = dict[b'data'].reshape(10000, 3, 1024)\n",
    "    dict[b'data'] = np.swapaxes(dict[b'data'], 1, 2)\n",
    "    dict[b'data'] = dict[b'data'].reshape(10000, 32, 32, 3)\n",
    "    return dict[b'data'], dict[b'labels']"
   ]
  },
  {
   "cell_type": "code",
   "execution_count": 28,
   "id": "a8d0ef46",
   "metadata": {
    "ExecuteTime": {
     "end_time": "2021-05-26T08:22:36.543917Z",
     "start_time": "2021-05-26T08:22:36.228170Z"
    }
   },
   "outputs": [],
   "source": [
    "train = defaultdict(list)\n",
    "test = defaultdict(list)\n",
    "\n",
    "# load train dataset\n",
    "for file in glob('/mnt/Seagate/Code/ml-playground/cifar10/data/*[0-9]'):\n",
    "    data, label = getData(file)\n",
    "    if len(train['data']) == 0:\n",
    "        train['data'] = data\n",
    "        train['label'] = label\n",
    "    else:\n",
    "        train['data'] = np.concatenate((train['data'], data))\n",
    "        train['label'] = np.concatenate((train['label'], label))\n",
    "        \n",
    "# laod test dataset\n",
    "test['data'], test['label'] = getData(\"/mnt/Seagate/Code/ml-playground/cifar10/data/test_batch\")\n",
    "\n",
    "# load class names\n",
    "with open('/mnt/Seagate/Code/ml-playground/cifar10/data/batches.meta', 'rb') as f:\n",
    "    classes = pickle.load(f)['label_names']"
   ]
  },
  {
   "cell_type": "code",
   "execution_count": 29,
   "id": "2b52722e",
   "metadata": {
    "ExecuteTime": {
     "end_time": "2021-05-26T08:22:38.856633Z",
     "start_time": "2021-05-26T08:22:38.690100Z"
    }
   },
   "outputs": [
    {
     "name": "stdout",
     "output_type": "stream",
     "text": [
      "[0]\n",
      "airplane\n"
     ]
    },
    {
     "data": {
      "image/png": "[encoded data removed]",
      "text/plain": [
       "<Figure size 432x288 with 1 Axes>"
      ]
     },
     "metadata": {
      "needs_background": "light"
     },
     "output_type": "display_data"
    }
   ],
   "source": [
    "sampIdx = np.random.randint(low=0, high=50000, size=1)\n",
    "samp = train['data'][sampIdx]\n",
    "imshow(samp.squeeze())\n",
    "print(train['label'][sampIdx])\n",
    "print(classes[int(train['label'][sampIdx])])"
   ]
  }
 ],
 "metadata": {
  "kernelspec": {
   "display_name": "Python 3",
   "language": "python",
   "name": "python3"
  },
  "language_info": {
   "codemirror_mode": {
    "name": "ipython",
    "version": 3
   },
   "file_extension": ".py",
   "mimetype": "text/x-python",
   "name": "python",
   "nbconvert_exporter": "python",
   "pygments_lexer": "ipython3",
   "version": "3.9.4"
  },
  "varInspector": {
   "cols": {
    "lenName": 16,
    "lenType": 16,
    "lenVar": 40
   },
   "kernels_config": {
    "python": {
     "delete_cmd_postfix": "",
     "delete_cmd_prefix": "del ",
     "library": "var_list.py",
     "varRefreshCmd": "print(var_dic_list())"
    },
    "r": {
     "delete_cmd_postfix": ") ",
     "delete_cmd_prefix": "rm(",
     "library": "var_list.r",
     "varRefreshCmd": "cat(var_dic_list()) "
    }
   },
   "types_to_exclude": [
    "module",
    "function",
    "builtin_function_or_method",
    "instance",
    "_Feature"
   ],
   "window_display": true
  }
 },
 "nbformat": 4,
 "nbformat_minor": 5
}
