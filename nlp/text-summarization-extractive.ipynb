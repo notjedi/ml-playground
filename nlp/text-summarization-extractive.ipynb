{
 "cells": [
  {
   "cell_type": "code",
   "execution_count": 1,
   "id": "e1e5684f",
   "metadata": {
    "ExecuteTime": {
     "end_time": "2021-05-24T10:09:00.956019Z",
     "start_time": "2021-05-24T10:09:00.284018Z"
    }
   },
   "outputs": [],
   "source": [
    "import re\n",
    "import numpy as np\n",
    "import networkx as nx\n",
    "from nltk import sent_tokenize\n",
    "from collections import defaultdict\n",
    "from nltk.tokenize import word_tokenize\n",
    "from nltk.corpus import stopwords as sw\n",
    "from sklearn.metrics.pairwise import cosine_similarity"
   ]
  },
  {
   "cell_type": "code",
   "execution_count": 2,
   "id": "276c3c8c",
   "metadata": {
    "ExecuteTime": {
     "end_time": "2021-05-24T10:09:00.959078Z",
     "start_time": "2021-05-24T10:09:00.957630Z"
    }
   },
   "outputs": [],
   "source": [
    "# https://www.youtube.com/watch?v=qxEkY8OScYY\n",
    "# https://towardsdatascience.com/getting-started-with-natural-language-processing-nlp-2c482420cc05"
   ]
  },
  {
   "cell_type": "code",
   "execution_count": 3,
   "id": "6c2b73d0",
   "metadata": {
    "ExecuteTime": {
     "end_time": "2021-05-24T10:09:00.964276Z",
     "start_time": "2021-05-24T10:09:00.959911Z"
    }
   },
   "outputs": [],
   "source": [
    "text = \"\"\"\n",
    "Despite bitcoin’s meteoric rise of over 550% this year, on-chain analysis paints a picture of it still being early in the game. Why? Three words: Coin Days Destroyed (CDD).\n",
    "NOWHERE NEAR THE TOP THIS YEAR\n",
    "By assessing CDD, we can visualize the confidence among long-term bitcoin holders relative to the current price of bitcoin.\n",
    "To understand how CDD works, let’s start with coin days.\n",
    "WHAT IS A COIN DAY?\n",
    "Coin days are the number of days since a bitcoin was moved over from one wallet to another. The logic behind them is to assign a higher value to an idle coin. Why? Because long-term bitcoin holders have greater knowledge of market cycle volatility and thus are more adept at identifying the best times to buy or sell.\n",
    "So when long-term holders sell their bitcoin, the Coin Days Destroyed will surge higher. When strong hands hold, CDD trends lower which suggests their confidence in a new bull market.\n",
    "WHAT ARE COIN DAYS DESTROYED?\n",
    "Coin Days Destroyed is a term for when bitcoin that’s been sitting in a wallet—accruing coin days—is all of a sudden sold, causing those coin days to be “destroyed.” Importantly, bitcoin is not actually destroyed. CDD is simply terminology that calculates the time erased.\n",
    "Here’s an example: Imagine an investor purchases 1 bitcoin and holds it in their wallet for 90 days, then sees a big increase in the price and decides to sell. He would have “destroyed” 90 bitcoin days.\n",
    "When investors are accumulating (and few old coins are spent), Coin Days Destroyed will trend downwards. During late-stage bull markets, old coins often are increasingly spent and will lead to a spike in Coin Days Destroyed.\n",
    "The beauty of this formula: It weighs less on the activity of short-term traders. Since these traders don’t hold bitcoin for long, their impact on Coin Days Destroyed will be minimal as compared to the activities of long-term traders.\n",
    "However, when long-term holders are starting to sell their bitcoin, it’s worth paying attention to.\n",
    "When we look at these important metrics, it appears that bitcoin is nowhere near its high this year. Bitcoin is now over $40,000 but the 90-day moving average for Coin Days Destroyed is near its lowest levels.\n",
    "The decline in Coin Days Destroyed shows that old hands are stronger than ever amid the price increase.\n",
    "HOW IS CDD CALCULATED?\n",
    "Coin Days Destroyed is calculated by:\n",
    "The number of bitcoin in a transaction\n",
    "Multiplied by the number of days since those coins were last spent.\n",
    "The “destroyed” part comes into effect when it is removed on receipt. Once again, it means the coins held for long periods of time will carry more weight in CDD.\n",
    "This on-chain metric shows the weight of the strong hands versus the short-term speculators.\n",
    "The current number of Coin Days Destroyed is far lower than the 2017 price top. So, this indicates that fewer veteran hands are selling than in the previous bull cycles.\n",
    "Considering the Bitcoin network is now 12 years old and the current BTC supply has already appreciated, it’s telling that strong hands are not selling their holdings. This suggests that the market top is nowhere near our current price.\n",
    "What’s more, the higher demand from institutional investors could be the primary force behind this recent surge in long-term confidence from veteran holders.\n",
    "In April, Fidelity Investments, with $10.3 trillion in assets under management, introduced an analytics platform capable of on-chain Bitcoin data visualization for its institutional clients called “Sherlock.” Wells Fargo is also preparing to embrace bitcoin investing, as it announces it will offer an actively managed cryptocurrency product.\n",
    "These moves by high-profile asset management firms underscore the rise of institutional investors who are banking on the future growth in Bitcoin.\n",
    "This is a guest post by Portfolio Insider. Opinions expressed are entirely their own and do not necessarily reflect those of BTC, Inc. or Bitcoin Magazine.\n",
    "\"\"\""
   ]
  },
  {
   "cell_type": "code",
   "execution_count": 4,
   "id": "ddda9d0b",
   "metadata": {
    "ExecuteTime": {
     "end_time": "2021-05-24T10:09:00.987819Z",
     "start_time": "2021-05-24T10:09:00.965128Z"
    }
   },
   "outputs": [],
   "source": [
    "sentences = sent_tokenize(text.replace('\\n', ' '))\n",
    "stopwords = sw.words('english')\n",
    "processed_sentences = []\n",
    "words = []\n",
    "\n",
    "# text preprocessing\n",
    "for sentence in sentences:\n",
    "    sentence = sentence.lower()\n",
    "    sentence = re.sub(\"’\", '', sentence)\n",
    "    sentence = re.sub('[^a-z0-9]', ' ', sentence)\n",
    "    sentence = ' '.join([word for word in word_tokenize(sentence) if word not in stopwords])\n",
    "    processed_sentences.append(sentence)\n",
    "    words.append(word_tokenize(sentence))"
   ]
  },
  {
   "cell_type": "code",
   "execution_count": 5,
   "id": "465eb807",
   "metadata": {
    "ExecuteTime": {
     "end_time": "2021-05-24T10:09:07.869267Z",
     "start_time": "2021-05-24T10:09:00.989300Z"
    }
   },
   "outputs": [],
   "source": [
    "# Extract word vectors\n",
    "word_embeddings = {}\n",
    "f = open('data/glove.6B.100d.txt', encoding='utf-8')\n",
    "for line in f.readlines():\n",
    "    values = line.split()\n",
    "    word = values[0]\n",
    "    coefs = np.asarray(values[1:], dtype='float32')\n",
    "    word_embeddings[word] = coefs\n",
    "f.close()"
   ]
  },
  {
   "cell_type": "code",
   "execution_count": 6,
   "id": "945ec06d",
   "metadata": {
    "ExecuteTime": {
     "end_time": "2021-05-24T10:09:07.878246Z",
     "start_time": "2021-05-24T10:09:07.873571Z"
    }
   },
   "outputs": [],
   "source": [
    "# textrank algorithm\n",
    "sentence_vectors = []\n",
    "for i in range(len(processed_sentences)):\n",
    "    sentence = sentences[i]\n",
    "    if (len(sentence) == 0):\n",
    "        continue\n",
    "    vectors = sum([word_embeddings.get(word, np.zeros(100,)) for word in sentence.split()]) / len(sentence.split())\n",
    "    sentence_vectors.append(vectors)"
   ]
  },
  {
   "cell_type": "code",
   "execution_count": 7,
   "id": "b169b4cc",
   "metadata": {
    "ExecuteTime": {
     "end_time": "2021-05-24T10:09:08.147941Z",
     "start_time": "2021-05-24T10:09:07.880125Z"
    }
   },
   "outputs": [],
   "source": [
    "# similarity matrix\n",
    "sim_mat = np.zeros((len(sentences), len(sentences)))\n",
    "\n",
    "for i in range(0, len(sentences)):\n",
    "    for j in range(0, len(sentences)):\n",
    "        if i == j:\n",
    "            continue\n",
    "        sim_mat[i, j] = cosine_similarity(sentence_vectors[i].reshape(1, 100), sentence_vectors[j].reshape(1, 100))[0, 0]\n",
    "# np.fill_diagonal(sim_mat, 0)"
   ]
  },
  {
   "cell_type": "code",
   "execution_count": 8,
   "id": "2cbeb2cd",
   "metadata": {
    "ExecuteTime": {
     "end_time": "2021-05-24T10:09:08.167212Z",
     "start_time": "2021-05-24T10:09:08.149220Z"
    }
   },
   "outputs": [],
   "source": [
    "graph = nx.from_numpy_array(sim_mat)\n",
    "ranks = nx.pagerank(graph)\n",
    "\n",
    "ranked_sentences = sorted(((ranks[i], sentence) for i, sentence in enumerate(sentences)), reverse=True)"
   ]
  },
  {
   "cell_type": "code",
   "execution_count": 9,
   "id": "8df8eab6",
   "metadata": {
    "ExecuteTime": {
     "end_time": "2021-05-24T10:09:08.174131Z",
     "start_time": "2021-05-24T10:09:08.168211Z"
    }
   },
   "outputs": [
    {
     "name": "stdout",
     "output_type": "stream",
     "text": [
      "Considering the Bitcoin network is now 12 years old and the current BTC supply has already appreciated, it’s telling that strong hands are not selling their holdings. Once again, it means the coins held for long periods of time will carry more weight in CDD. Since these traders don’t hold bitcoin for long, their impact on Coin Days Destroyed will be minimal as compared to the activities of long-term traders. So, this indicates that fewer veteran hands are selling than in the previous bull cycles. Coin Days Destroyed is a term for when bitcoin that’s been sitting in a wallet—accruing coin days—is all of a sudden sold, causing those coin days to be “destroyed.” Importantly, bitcoin is not actually destroyed. Because long-term bitcoin holders have greater knowledge of market cycle volatility and thus are more adept at identifying the best times to buy or sell. The decline in Coin Days Destroyed shows that old hands are stronger than ever amid the price increase. Here’s an example: Imagine an investor purchases 1 bitcoin and holds it in their wallet for 90 days, then sees a big increase in the price and decides to sell. What’s more, the higher demand from institutional investors could be the primary force behind this recent surge in long-term confidence from veteran holders. Coin days are the number of days since a bitcoin was moved over from one wallet to another. "
     ]
    }
   ],
   "source": [
    "for i in range(10):\n",
    "    print(ranked_sentences[i][1], end=' ')"
   ]
  },
  {
   "cell_type": "code",
   "execution_count": 10,
   "id": "82279ad2",
   "metadata": {
    "ExecuteTime": {
     "end_time": "2021-05-24T10:09:08.955566Z",
     "start_time": "2021-05-24T10:09:08.175321Z"
    }
   },
   "outputs": [
    {
     "data": {
      "text/plain": [
       "<AxesSubplot:>"
      ]
     },
     "execution_count": 10,
     "metadata": {},
     "output_type": "execute_result"
    },
    {
     "data": {
      "image/png": "[encoded data removed]",
      "text/plain": [
       "<Figure size 720x432 with 2 Axes>"
      ]
     },
     "metadata": {
      "needs_background": "light"
     },
     "output_type": "display_data"
    }
   ],
   "source": [
    "import seaborn as sns\n",
    "from matplotlib import pyplot as plt\n",
    "# sns.heatmap(sim_mat)\n",
    "plt.figure(figsize=(10, 6))\n",
    "sns.heatmap(sim_mat, square=True)"
   ]
  }
 ],
 "metadata": {
  "kernelspec": {
   "display_name": "Python 3",
   "language": "python",
   "name": "python3"
  },
  "language_info": {
   "codemirror_mode": {
    "name": "ipython",
    "version": 3
   },
   "file_extension": ".py",
   "mimetype": "text/x-python",
   "name": "python",
   "nbconvert_exporter": "python",
   "pygments_lexer": "ipython3",
   "version": "3.9.4"
  },
  "varInspector": {
   "cols": {
    "lenName": 16,
    "lenType": 16,
    "lenVar": 40
   },
   "kernels_config": {
    "python": {
     "delete_cmd_postfix": "",
     "delete_cmd_prefix": "del ",
     "library": "var_list.py",
     "varRefreshCmd": "print(var_dic_list())"
    },
    "r": {
     "delete_cmd_postfix": ") ",
     "delete_cmd_prefix": "rm(",
     "library": "var_list.r",
     "varRefreshCmd": "cat(var_dic_list()) "
    }
   },
   "position": {
    "height": "529px",
    "left": "1268px",
    "right": "20px",
    "top": "212px",
    "width": "490px"
   },
   "types_to_exclude": [
    "module",
    "function",
    "builtin_function_or_method",
    "instance",
    "_Feature"
   ],
   "window_display": true
  }
 },
 "nbformat": 4,
 "nbformat_minor": 5
}
