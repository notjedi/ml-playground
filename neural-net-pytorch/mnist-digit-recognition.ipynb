{
 "cells": [
  {
   "cell_type": "code",
   "execution_count": 1,
   "id": "76b3a074",
   "metadata": {
    "ExecuteTime": {
     "end_time": "2021-04-14T19:17:55.248308Z",
     "start_time": "2021-04-14T19:17:54.069268Z"
    }
   },
   "outputs": [],
   "source": [
    "import torch\n",
    "import numpy as np\n",
    "import pandas as pd\n",
    "\n",
    "from torch import nn\n",
    "from torch import optim\n",
    "from tqdm import trange, tqdm_notebook\n",
    "from torch.nn import functional as F\n",
    "from matplotlib import pyplot as plt\n",
    "from sklearn.datasets import fetch_openml\n",
    "from sklearn import model_selection as ms\n",
    "from torchvision import datasets, transforms"
   ]
  },
  {
   "cell_type": "code",
   "execution_count": 2,
   "id": "1e11a657",
   "metadata": {
    "ExecuteTime": {
     "end_time": "2021-04-14T19:17:55.281228Z",
     "start_time": "2021-04-14T19:17:55.251149Z"
    }
   },
   "outputs": [],
   "source": [
    "train = datasets.MNIST(root='./data', train=True, download=True, transform=transforms.Compose([transforms.ToTensor()]))\n",
    "test = datasets.MNIST(root='./data', train=False, download=True, transform=transforms.Compose([transforms.ToTensor()]))"
   ]
  },
  {
   "cell_type": "code",
   "execution_count": 3,
   "id": "dfd58fb5",
   "metadata": {
    "ExecuteTime": {
     "end_time": "2021-04-14T19:17:55.285101Z",
     "start_time": "2021-04-14T19:17:55.282403Z"
    }
   },
   "outputs": [],
   "source": [
    "train_data = torch.utils.data.DataLoader(train, batch_size=8, shuffle=True)\n",
    "test_data = torch.utils.data.DataLoader(test, batch_size=8, shuffle=True)"
   ]
  },
  {
   "cell_type": "code",
   "execution_count": 4,
   "id": "b1c8192e",
   "metadata": {
    "ExecuteTime": {
     "end_time": "2021-04-14T19:17:55.290909Z",
     "start_time": "2021-04-14T19:17:55.286009Z"
    }
   },
   "outputs": [],
   "source": [
    "# dataset = fetch_openml('mnist_784')\n",
    "# x = np.array(dataset['data'])\n",
    "# y = np.array(dataset['target'], dtype='int32')\n",
    "# x_train, x_test, y_train, y_test = ms.train_test_split(x, y, test_size=0.25, random_state=1)\n",
    "# train_data = zip(torch.Tensor(x_train), torch.Tensor(y_train))\n",
    "# test_data = zip(torch.Tensor(x_test), torch.Tensor(y_test))"
   ]
  },
  {
   "cell_type": "code",
   "execution_count": 5,
   "id": "c301ec99",
   "metadata": {
    "ExecuteTime": {
     "end_time": "2021-04-14T19:17:55.297599Z",
     "start_time": "2021-04-14T19:17:55.292334Z"
    }
   },
   "outputs": [],
   "source": [
    "class Net(nn.Module):\n",
    "    def __init__(self):\n",
    "        super().__init__()\n",
    "        self.l1 = nn.Linear(784, 128)\n",
    "        self.l2 = nn.Linear(128, 10)\n",
    "        \n",
    "    def forward(self, input):\n",
    "        input = F.relu(self.l1(input))\n",
    "        input = F.log_softmax(self.l2(input), dim=1)\n",
    "        return input"
   ]
  },
  {
   "cell_type": "code",
   "execution_count": 6,
   "id": "fb2eddad",
   "metadata": {
    "ExecuteTime": {
     "end_time": "2021-04-14T19:18:56.308821Z",
     "start_time": "2021-04-14T19:17:55.300559Z"
    },
    "scrolled": true
   },
   "outputs": [
    {
     "name": "stderr",
     "output_type": "stream",
     "text": [
      " 20%|██        | 1/5 [00:12<00:48, 12.07s/it]"
     ]
    },
    {
     "name": "stdout",
     "output_type": "stream",
     "text": [
      "tensor(0.0734, grad_fn=<NllLossBackward>)\n"
     ]
    },
    {
     "name": "stderr",
     "output_type": "stream",
     "text": [
      "\r",
      " 40%|████      | 2/5 [00:24<00:37, 12.44s/it]"
     ]
    },
    {
     "name": "stdout",
     "output_type": "stream",
     "text": [
      "tensor(0.0051, grad_fn=<NllLossBackward>)\n"
     ]
    },
    {
     "name": "stderr",
     "output_type": "stream",
     "text": [
      "\r",
      " 60%|██████    | 3/5 [00:36<00:24, 12.24s/it]"
     ]
    },
    {
     "name": "stdout",
     "output_type": "stream",
     "text": [
      "tensor(0.0254, grad_fn=<NllLossBackward>)\n"
     ]
    },
    {
     "name": "stderr",
     "output_type": "stream",
     "text": [
      "\r",
      " 80%|████████  | 4/5 [00:48<00:12, 12.12s/it]"
     ]
    },
    {
     "name": "stdout",
     "output_type": "stream",
     "text": [
      "tensor(0.0078, grad_fn=<NllLossBackward>)\n"
     ]
    },
    {
     "name": "stderr",
     "output_type": "stream",
     "text": [
      "100%|██████████| 5/5 [01:01<00:00, 12.20s/it]"
     ]
    },
    {
     "name": "stdout",
     "output_type": "stream",
     "text": [
      "tensor(0.0052, grad_fn=<NllLossBackward>)\n"
     ]
    },
    {
     "name": "stderr",
     "output_type": "stream",
     "text": [
      "\n"
     ]
    }
   ],
   "source": [
    "EPOCHS = 5\n",
    "net = Net()\n",
    "opt = optim.Adam(net.parameters(), lr = 0.001)\n",
    "\n",
    "for epoch in trange(EPOCHS):\n",
    "    for x, y in train_data:\n",
    "        opt.zero_grad()\n",
    "        output = net(x.view(-1, 784))\n",
    "        #  https://discuss.pytorch.org/t/does-nllloss-handle-log-softmax-and-softmax-in-the-same-way/8835\n",
    "        loss = F.nll_loss(output, y)\n",
    "        loss.backward()\n",
    "        opt.step()\n",
    "    print(loss)"
   ]
  },
  {
   "cell_type": "code",
   "execution_count": 11,
   "id": "8c836b13",
   "metadata": {
    "ExecuteTime": {
     "end_time": "2021-04-14T19:19:40.334372Z",
     "start_time": "2021-04-14T19:19:39.268392Z"
    }
   },
   "outputs": [
    {
     "name": "stdout",
     "output_type": "stream",
     "text": [
      "Accuracy: 97.83%\n"
     ]
    }
   ],
   "source": [
    "total = 0\n",
    "correct = 0\n",
    "\n",
    "with torch.no_grad():\n",
    "    for data in test_data:\n",
    "        x, y = data\n",
    "        output = net(x.view(-1, 784))\n",
    "        correct += int(torch.sum(y == torch.argmax(output, axis = 1)))\n",
    "        total += len(output)\n",
    "\n",
    "print(f\"Accuracy: {correct/total * 100}%\")"
   ]
  },
  {
   "cell_type": "code",
   "execution_count": 8,
   "id": "e71af179",
   "metadata": {
    "ExecuteTime": {
     "end_time": "2021-04-14T19:18:58.250818Z",
     "start_time": "2021-04-14T19:18:57.302453Z"
    }
   },
   "outputs": [],
   "source": [
    "outputs = []\n",
    "with torch.no_grad():\n",
    "    for data in test_data:\n",
    "        x, y = data\n",
    "        output = net(x.view(-1, 784))\n",
    "        outputs.extend(list(torch.max(output, 1)[0].numpy()))\n",
    "outputs = np.array(outputs)"
   ]
  },
  {
   "cell_type": "code",
   "execution_count": 9,
   "id": "6baac223",
   "metadata": {
    "ExecuteTime": {
     "end_time": "2021-04-14T19:18:59.140412Z",
     "start_time": "2021-04-14T19:18:58.252222Z"
    }
   },
   "outputs": [
    {
     "data": {
      "image/png": "[encoded data removed]",
      "text/plain": [
       "<Figure size 432x288 with 1 Axes>"
      ]
     },
     "metadata": {
      "needs_background": "light"
     },
     "output_type": "display_data"
    }
   ],
   "source": [
    "# let's take a look at the most weird image\n",
    "idx = np.argmin(outputs)\n",
    "\n",
    "for i, data in enumerate(test_data):\n",
    "    if i == idx//8:\n",
    "        x, y = data\n",
    "        plt.imshow(x[idx%8].view(28, 28))"
   ]
  }
 ],
 "metadata": {
  "kernelspec": {
   "display_name": "Python 3",
   "language": "python",
   "name": "python3"
  },
  "language_info": {
   "codemirror_mode": {
    "name": "ipython",
    "version": 3
   },
   "file_extension": ".py",
   "mimetype": "text/x-python",
   "name": "python",
   "nbconvert_exporter": "python",
   "pygments_lexer": "ipython3",
   "version": "3.9.3"
  },
  "notify_time": "5",
  "varInspector": {
   "cols": {
    "lenName": 16,
    "lenType": 16,
    "lenVar": 40
   },
   "kernels_config": {
    "python": {
     "delete_cmd_postfix": "",
     "delete_cmd_prefix": "del ",
     "library": "var_list.py",
     "varRefreshCmd": "print(var_dic_list())"
    },
    "r": {
     "delete_cmd_postfix": ") ",
     "delete_cmd_prefix": "rm(",
     "library": "var_list.r",
     "varRefreshCmd": "cat(var_dic_list()) "
    }
   },
   "types_to_exclude": [
    "module",
    "function",
    "builtin_function_or_method",
    "instance",
    "_Feature"
   ],
   "window_display": false
  }
 },
 "nbformat": 4,
 "nbformat_minor": 5
}
