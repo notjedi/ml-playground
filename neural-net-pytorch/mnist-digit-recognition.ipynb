{
 "cells": [
  {
   "cell_type": "code",
   "execution_count": 9,
   "id": "76b3a074",
   "metadata": {
    "ExecuteTime": {
     "end_time": "2021-04-14T12:20:59.379818Z",
     "start_time": "2021-04-14T12:20:59.139087Z"
    }
   },
   "outputs": [],
   "source": [
    "import torch\n",
    "import numpy as np\n",
    "from torch import nn\n",
    "from torch import optim\n",
    "from tqdm import trange\n",
    "from torch.nn import functional as F\n",
    "from matplotlib import pyplot as plt\n",
    "from torchvision import datasets, transforms"
   ]
  },
  {
   "cell_type": "code",
   "execution_count": 2,
   "id": "1e11a657",
   "metadata": {
    "ExecuteTime": {
     "end_time": "2021-04-14T12:17:35.165549Z",
     "start_time": "2021-04-14T12:17:35.124149Z"
    }
   },
   "outputs": [],
   "source": [
    "train = datasets.MNIST(root='./data', train=True, download=True, transform=transforms.Compose([transforms.ToTensor()]))\n",
    "test = datasets.MNIST(root='./data', train=False, download=True, transform=transforms.Compose([transforms.ToTensor()]))"
   ]
  },
  {
   "cell_type": "code",
   "execution_count": 3,
   "id": "dfd58fb5",
   "metadata": {
    "ExecuteTime": {
     "end_time": "2021-04-14T12:17:35.169580Z",
     "start_time": "2021-04-14T12:17:35.166902Z"
    }
   },
   "outputs": [],
   "source": [
    "train_data = torch.utils.data.DataLoader(train, batch_size=8, shuffle=True)\n",
    "test_data = torch.utils.data.DataLoader(test, batch_size=8, shuffle=True)"
   ]
  },
  {
   "cell_type": "code",
   "execution_count": 4,
   "id": "c301ec99",
   "metadata": {
    "ExecuteTime": {
     "end_time": "2021-04-14T12:17:35.175334Z",
     "start_time": "2021-04-14T12:17:35.170936Z"
    }
   },
   "outputs": [],
   "source": [
    "class Net(nn.Module):\n",
    "    def __init__(self):\n",
    "        super().__init__()\n",
    "        self.l1 = nn.Linear(784, 128)\n",
    "        self.l2 = nn.Linear(128, 10)\n",
    "        \n",
    "    def forward(self, x):\n",
    "        x = F.relu(self.l1(x))\n",
    "        x = F.log_softmax(self.l2(x), dim=1)\n",
    "        return x"
   ]
  },
  {
   "cell_type": "code",
   "execution_count": 5,
   "id": "fb2eddad",
   "metadata": {
    "ExecuteTime": {
     "end_time": "2021-04-14T12:18:34.630971Z",
     "start_time": "2021-04-14T12:17:35.176543Z"
    }
   },
   "outputs": [
    {
     "name": "stderr",
     "output_type": "stream",
     "text": [
      " 20%|██        | 1/5 [00:12<00:48, 12.16s/it]"
     ]
    },
    {
     "name": "stdout",
     "output_type": "stream",
     "text": [
      "tensor(0.1189, grad_fn=<NllLossBackward>)\n"
     ]
    },
    {
     "name": "stderr",
     "output_type": "stream",
     "text": [
      "\r",
      " 40%|████      | 2/5 [00:23<00:35, 11.82s/it]"
     ]
    },
    {
     "name": "stdout",
     "output_type": "stream",
     "text": [
      "tensor(0.2315, grad_fn=<NllLossBackward>)\n"
     ]
    },
    {
     "name": "stderr",
     "output_type": "stream",
     "text": [
      "\r",
      " 60%|██████    | 3/5 [00:35<00:23, 11.88s/it]"
     ]
    },
    {
     "name": "stdout",
     "output_type": "stream",
     "text": [
      "tensor(0.0656, grad_fn=<NllLossBackward>)\n"
     ]
    },
    {
     "name": "stderr",
     "output_type": "stream",
     "text": [
      "\r",
      " 80%|████████  | 4/5 [00:47<00:11, 11.85s/it]"
     ]
    },
    {
     "name": "stdout",
     "output_type": "stream",
     "text": [
      "tensor(0.0051, grad_fn=<NllLossBackward>)\n"
     ]
    },
    {
     "name": "stderr",
     "output_type": "stream",
     "text": [
      "100%|██████████| 5/5 [00:59<00:00, 11.89s/it]"
     ]
    },
    {
     "name": "stdout",
     "output_type": "stream",
     "text": [
      "tensor(0.0006, grad_fn=<NllLossBackward>)\n"
     ]
    },
    {
     "name": "stderr",
     "output_type": "stream",
     "text": [
      "\n"
     ]
    }
   ],
   "source": [
    "EPOCHS = 5\n",
    "net = Net()\n",
    "opt = optim.Adam(net.parameters(), lr = 0.001)\n",
    "\n",
    "for epoch in trange(EPOCHS):\n",
    "    for data in train_data:\n",
    "        x, y = data\n",
    "        opt.zero_grad()\n",
    "        output = net(x.view(-1, 784))\n",
    "        loss = F.nll_loss(output, y)\n",
    "        loss.backward()\n",
    "        opt.step()\n",
    "    print(loss)"
   ]
  },
  {
   "cell_type": "code",
   "execution_count": 6,
   "id": "8c836b13",
   "metadata": {
    "ExecuteTime": {
     "end_time": "2021-04-14T12:18:35.686393Z",
     "start_time": "2021-04-14T12:18:34.632133Z"
    }
   },
   "outputs": [
    {
     "name": "stdout",
     "output_type": "stream",
     "text": [
      "Accuracy: 0.9749\n"
     ]
    }
   ],
   "source": [
    "total = 0\n",
    "correct = 0\n",
    "\n",
    "with torch.no_grad():\n",
    "    for data in test_data:\n",
    "        x, y = data\n",
    "        output = net(x.view(-1, 784))\n",
    "        correct += int(torch.sum(y == torch.argmax(output, axis = 1)))\n",
    "        total += len(output)\n",
    "\n",
    "print(f\"Accuracy: {correct/total}\")"
   ]
  },
  {
   "cell_type": "code",
   "execution_count": 12,
   "id": "e71af179",
   "metadata": {
    "ExecuteTime": {
     "end_time": "2021-04-14T12:22:58.263408Z",
     "start_time": "2021-04-14T12:22:58.135831Z"
    }
   },
   "outputs": [
    {
     "data": {
      "text/plain": [
       "<matplotlib.image.AxesImage at 0x7f2e3d148c40>"
      ]
     },
     "execution_count": 12,
     "metadata": {},
     "output_type": "execute_result"
    },
    {
     "data": {
      "image/png": "[encoded data removed]",
      "text/plain": [
       "<Figure size 432x288 with 1 Axes>"
      ]
     },
     "metadata": {
      "needs_background": "light"
     },
     "output_type": "display_data"
    }
   ],
   "source": [
    "plt.imshow(x[3].view(28, 28))"
   ]
  }
 ],
 "metadata": {
  "kernelspec": {
   "display_name": "Python 3",
   "language": "python",
   "name": "python3"
  },
  "language_info": {
   "codemirror_mode": {
    "name": "ipython",
    "version": 3
   },
   "file_extension": ".py",
   "mimetype": "text/x-python",
   "name": "python",
   "nbconvert_exporter": "python",
   "pygments_lexer": "ipython3",
   "version": "3.9.3"
  }
 },
 "nbformat": 4,
 "nbformat_minor": 5
}
