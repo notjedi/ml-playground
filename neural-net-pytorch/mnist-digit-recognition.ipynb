{
 "cells": [
  {
   "cell_type": "code",
   "execution_count": 1,
   "id": "76b3a074",
   "metadata": {
    "ExecuteTime": {
     "end_time": "2021-04-15T06:55:00.517611Z",
     "start_time": "2021-04-15T06:54:59.511760Z"
    }
   },
   "outputs": [],
   "source": [
    "import torch\n",
    "import numpy as np\n",
    "import pandas as pd\n",
    "\n",
    "from torch import nn\n",
    "from torch import optim\n",
    "from tqdm import trange, tqdm_notebook\n",
    "from torch.nn import functional as F\n",
    "from matplotlib import pyplot as plt\n",
    "from sklearn.datasets import fetch_openml\n",
    "from sklearn import model_selection as ms\n",
    "from torchvision import datasets, transforms"
   ]
  },
  {
   "cell_type": "code",
   "execution_count": 2,
   "id": "1e11a657",
   "metadata": {
    "ExecuteTime": {
     "end_time": "2021-04-15T06:55:00.541417Z",
     "start_time": "2021-04-15T06:55:00.518760Z"
    }
   },
   "outputs": [],
   "source": [
    "train = datasets.MNIST(root='./data', train=True, download=True, transform=transforms.Compose([transforms.ToTensor()]))\n",
    "test = datasets.MNIST(root='./data', train=False, download=True, transform=transforms.Compose([transforms.ToTensor()]))"
   ]
  },
  {
   "cell_type": "code",
   "execution_count": 3,
   "id": "dfd58fb5",
   "metadata": {
    "ExecuteTime": {
     "end_time": "2021-04-15T06:55:00.544953Z",
     "start_time": "2021-04-15T06:55:00.542447Z"
    }
   },
   "outputs": [],
   "source": [
    "batch_size = 128\n",
    "train_data = torch.utils.data.DataLoader(train, batch_size=batch_size, shuffle=True)\n",
    "test_data = torch.utils.data.DataLoader(test, batch_size=batch_size, shuffle=True)"
   ]
  },
  {
   "cell_type": "code",
   "execution_count": 4,
   "id": "53dace77",
   "metadata": {
    "ExecuteTime": {
     "end_time": "2021-04-15T06:55:32.585911Z",
     "start_time": "2021-04-15T06:55:00.545911Z"
    }
   },
   "outputs": [],
   "source": [
    "dataset = fetch_openml('mnist_784')\n",
    "x = np.array(dataset['data'])\n",
    "y = np.array(dataset['target'], dtype='int32')\n",
    "x_train, x_test, y_train, y_test = ms.train_test_split(x, y, test_size=0.25, random_state=1)"
   ]
  },
  {
   "cell_type": "code",
   "execution_count": 5,
   "id": "c301ec99",
   "metadata": {
    "ExecuteTime": {
     "end_time": "2021-04-15T06:55:32.589860Z",
     "start_time": "2021-04-15T06:55:32.586815Z"
    }
   },
   "outputs": [],
   "source": [
    "class Net(nn.Module):\n",
    "    def __init__(self):\n",
    "        super().__init__()\n",
    "        self.l1 = nn.Linear(784, 128)\n",
    "        self.l2 = nn.Linear(128, 10)\n",
    "        \n",
    "    def forward(self, input):\n",
    "        input = F.relu(self.l1(input))\n",
    "        input = F.log_softmax(self.l2(input), dim=1)\n",
    "        return input"
   ]
  },
  {
   "cell_type": "code",
   "execution_count": 6,
   "id": "fb2eddad",
   "metadata": {
    "ExecuteTime": {
     "end_time": "2021-04-15T06:55:35.348916Z",
     "start_time": "2021-04-15T06:55:32.590797Z"
    },
    "scrolled": true
   },
   "outputs": [
    {
     "name": "stdout",
     "output_type": "stream",
     "text": [
      "tensor(0.1675, grad_fn=<NllLossBackward>)\n",
      "tensor(0.0954, grad_fn=<NllLossBackward>)\n",
      "tensor(0.0953, grad_fn=<NllLossBackward>)\n",
      "tensor(0.0664, grad_fn=<NllLossBackward>)\n",
      "tensor(0.0325, grad_fn=<NllLossBackward>)\n"
     ]
    }
   ],
   "source": [
    "EPOCHS = 5\n",
    "net = Net()\n",
    "opt = optim.Adam(net.parameters(), lr = 0.001)\n",
    "\n",
    "for epoch in range(EPOCHS):\n",
    "    i = 0\n",
    "    for i in range(y_train.shape[0]//batch_size):\n",
    "        low = i*batch_size\n",
    "        x = torch.Tensor(x_train[low: low + batch_size]).float()\n",
    "        y = torch.Tensor(y_train[low: low + batch_size]).long()\n",
    "        opt.zero_grad()\n",
    "        output = net(x)\n",
    "        #  https://discuss.pytorch.org/t/does-nllloss-handle-log-softmax-and-softmax-in-the-same-way/8835\n",
    "        loss = F.nll_loss(output, y)\n",
    "        loss.backward()\n",
    "        opt.step()\n",
    "    print(loss)"
   ]
  },
  {
   "cell_type": "code",
   "execution_count": 7,
   "id": "8c836b13",
   "metadata": {
    "ExecuteTime": {
     "end_time": "2021-04-15T06:55:35.581320Z",
     "start_time": "2021-04-15T06:55:35.350862Z"
    }
   },
   "outputs": [
    {
     "name": "stdout",
     "output_type": "stream",
     "text": [
      "Accuracy: 97.25228658536585%\n"
     ]
    }
   ],
   "source": [
    "total = 0\n",
    "correct = 0\n",
    "\n",
    "with torch.no_grad():\n",
    "    for i in range(y_train.shape[0]//batch_size):\n",
    "        low = i*batch_size\n",
    "        x = torch.Tensor(x_train[low: low + batch_size]).float()\n",
    "        y = torch.Tensor(y_train[low: low + batch_size]).long()\n",
    "        output = net(x)\n",
    "        correct += int(torch.sum(y == torch.argmax(output, axis = 1)))\n",
    "        total += batch_size\n",
    "\n",
    "print(f\"Accuracy: {correct/total * 100}%\")"
   ]
  },
  {
   "cell_type": "code",
   "execution_count": null,
   "id": "e71af179",
   "metadata": {
    "ExecuteTime": {
     "start_time": "2021-04-15T06:54:59.472Z"
    }
   },
   "outputs": [],
   "source": [
    "outputs = []\n",
    "with torch.no_grad():\n",
    "    for i in range(y_train.shape[0]//batch_size):\n",
    "        low = i*batch_size\n",
    "        x = torch.Tensor(x_train[low: low + batch_size]).float()\n",
    "        y = torch.Tensor(y_train[low: low + batch_size]).long()\n",
    "        output = net(x)\n",
    "        outputs.extend(list(torch.max(output, 1)[0]))\n",
    "outputs = np.array(outputs)"
   ]
  },
  {
   "cell_type": "code",
   "execution_count": null,
   "id": "bc22ae19",
   "metadata": {
    "ExecuteTime": {
     "start_time": "2021-04-15T06:54:59.473Z"
    }
   },
   "outputs": [],
   "source": [
    "sorted_list = sorted(list(zip(outputs, range(outputs.shape[0]))))\n",
    "x_bad = x_train[[x[1] for x in sorted_list[:64]]].reshape(8, 28*8, 28)\n",
    "\n",
    "# let's take a look at the most weird image\n",
    "plt.figure(figsize=(10, 10))\n",
    "plt.imshow(np.concatenate(x_bad, axis=1), cmap='gray')"
   ]
  }
 ],
 "metadata": {
  "kernelspec": {
   "display_name": "Python 3",
   "language": "python",
   "name": "python3"
  },
  "language_info": {
   "codemirror_mode": {
    "name": "ipython",
    "version": 3
   },
   "file_extension": ".py",
   "mimetype": "text/x-python",
   "name": "python",
   "nbconvert_exporter": "python",
   "pygments_lexer": "ipython3",
   "version": "3.9.3"
  },
  "notify_time": "5",
  "varInspector": {
   "cols": {
    "lenName": 16,
    "lenType": 16,
    "lenVar": 40
   },
   "kernels_config": {
    "python": {
     "delete_cmd_postfix": "",
     "delete_cmd_prefix": "del ",
     "library": "var_list.py",
     "varRefreshCmd": "print(var_dic_list())"
    },
    "r": {
     "delete_cmd_postfix": ") ",
     "delete_cmd_prefix": "rm(",
     "library": "var_list.r",
     "varRefreshCmd": "cat(var_dic_list()) "
    }
   },
   "types_to_exclude": [
    "module",
    "function",
    "builtin_function_or_method",
    "instance",
    "_Feature"
   ],
   "window_display": false
  }
 },
 "nbformat": 4,
 "nbformat_minor": 5
}
